{
  "nbformat": 4,
  "nbformat_minor": 0,
  "metadata": {
    "colab": {
      "name": "Weather.ipynb",
      "private_outputs": true,
      "provenance": []
    },
    "kernelspec": {
      "name": "python3",
      "display_name": "Python 3"
    },
    "language_info": {
      "name": "python"
    }
  },
  "cells": [
    {
      "cell_type": "code",
      "metadata": {
        "id": "XpF8KCUvVfwz"
      },
      "source": [
        "import requests\n",
        "#import os\n",
        "from datetime import datetime\n",
        "api key = 'b10fdd210ce81e324fle7a54963cdb3e'\n",
        "location = input(\"delhi\")\n",
        "\n",
        "complete_api_link =\"https://api.openweathermap.org/data/2.5/weather?q=\"+location+\"&appid='+api_key\"\n",
        "api_link = requests.get(complete_api_link)\n",
        "api_data = api_link.json()\n",
        "\n",
        "#create variables to store and display data\n",
        "temp_city =((api_data['main']['temp']-273.15)\n",
        "weather_desc =api_data['weather'][0]['description']\n",
        "hmdt = api_data['main']['humidity']\n",
        "wind_spd =api_data['wind']['speed']\n",
        "data_time = datatime.now()strftime(\"5d %b %Y | %I:%M :%S %p\")\n",
        "\n",
        "\n",
        "\n",
        "print (\"---------------------------------------------------------------------------------\")  \n",
        "print (\"weather stats for - {} || {}.format(location.upper(), data_time\"))\n",
        "print (\"---------------------------------------------------------------------------------\")\n",
        "\n",
        "\n",
        "\n",
        "print(\"current temperature is:{:.2f} deg C\".format(temp_city))\n",
        "print(\"current weather desc :\", weather_desc)\n",
        "print (\"current humidity    :\", hmdt, '%')\n",
        "print (\"current wind speed  :\", wind_spd , 'kmph')"
      ],
      "execution_count": null,
      "outputs": []
    },
    {
      "cell_type": "markdown",
      "metadata": {
        "id": "Tm0A6kjXdVEX"
      },
      "source": [
        ""
      ]
    }
  ]
}